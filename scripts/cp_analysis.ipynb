{
 "cells": [
  {
   "cell_type": "code",
   "execution_count": 40,
   "metadata": {},
   "outputs": [],
   "source": [
    "import numpy as np\n",
    "import pandas as pd\n",
    "import matplotlib.pyplot as plt\n",
    "\n",
    "from conformalization import cp, coverage_and_length"
   ]
  },
  {
   "cell_type": "code",
   "execution_count": 52,
   "metadata": {},
   "outputs": [],
   "source": [
    "with open(\"../results/uncertainty/MCP_APS_60.npy\", 'rb') as f:\n",
    "    region = np.load(f)\n",
    "    softmax_cal = np.load(f)\n",
    "    label_cal = np.load(f)\n",
    "    softmax_val = np.load(f)\n",
    "    label_val = np.load(f)"
   ]
  },
  {
   "cell_type": "code",
   "execution_count": 53,
   "metadata": {},
   "outputs": [
    {
     "data": {
      "text/plain": [
       "np.int64(312)"
      ]
     },
     "execution_count": 53,
     "metadata": {},
     "output_type": "execute_result"
    }
   ],
   "source": [
    "np.sum(np.all(region == 0, axis = 1))"
   ]
  },
  {
   "cell_type": "code",
   "execution_count": 43,
   "metadata": {},
   "outputs": [],
   "source": [
    "num_empty = region.shape[0] - np.count_nonzero(np.sum(region != 0, axis =1))"
   ]
  },
  {
   "cell_type": "code",
   "execution_count": 47,
   "metadata": {},
   "outputs": [
    {
     "data": {
      "text/plain": [
       "np.int64(40)"
      ]
     },
     "execution_count": 47,
     "metadata": {},
     "output_type": "execute_result"
    }
   ],
   "source": [
    "np.sum(np.all(region == 0, axis = 1))"
   ]
  },
  {
   "cell_type": "code",
   "execution_count": null,
   "metadata": {},
   "outputs": [],
   "source": []
  },
  {
   "cell_type": "code",
   "execution_count": 3,
   "metadata": {},
   "outputs": [],
   "source": [
    "# define confidence first\n",
    "n: int = softmax_cal.shape[0]\n",
    "Id_sort = np.argsort(softmax_cal, axis=1)[:, ::-1]\n",
    "cum_sum = np.take_along_axis(softmax_cal, Id_sort, axis=1).cumsum(axis=1)\n",
    "arr_scores = np.take_along_axis(cum_sum, Id_sort.argsort(axis=1), axis=1)"
   ]
  },
  {
   "cell_type": "code",
   "execution_count": 4,
   "metadata": {},
   "outputs": [
    {
     "data": {
      "text/plain": [
       "array([[0.85328999, 0.69026172, 0.99357399, 0.99999992],\n",
       "       [0.99226512, 0.68133682, 0.8561652 , 0.99999999],\n",
       "       [0.99174012, 0.67354643, 0.86082055, 1.00000004],\n",
       "       ...,\n",
       "       [0.72224945, 0.96548511, 0.99760794, 0.99999991],\n",
       "       [0.72662109, 0.96638118, 0.99766429, 0.99999987],\n",
       "       [0.68732047, 0.95938054, 0.99730243, 1.00000008]], shape=(2824, 4))"
      ]
     },
     "execution_count": 4,
     "metadata": {},
     "output_type": "execute_result"
    }
   ],
   "source": [
    "arr_scores"
   ]
  },
  {
   "cell_type": "code",
   "execution_count": 8,
   "metadata": {},
   "outputs": [
    {
     "data": {
      "text/plain": [
       "array([0.69026172, 0.68133682, 0.67354643, ..., 0.72224945, 0.72662109,\n",
       "       0.68732047], shape=(2824,))"
      ]
     },
     "execution_count": 8,
     "metadata": {},
     "output_type": "execute_result"
    }
   ],
   "source": [
    "arr_scores"
   ]
  },
  {
   "cell_type": "code",
   "execution_count": 6,
   "metadata": {},
   "outputs": [
    {
     "data": {
      "text/plain": [
       "array([[1],\n",
       "       [1],\n",
       "       [1],\n",
       "       ...,\n",
       "       [0],\n",
       "       [0],\n",
       "       [0]], shape=(2824, 1))"
      ]
     },
     "execution_count": 6,
     "metadata": {},
     "output_type": "execute_result"
    }
   ],
   "source": [
    "label_cal"
   ]
  },
  {
   "cell_type": "code",
   "execution_count": null,
   "metadata": {},
   "outputs": [],
   "source": []
  },
  {
   "cell_type": "code",
   "execution_count": 7,
   "metadata": {},
   "outputs": [
    {
     "name": "stdout",
     "output_type": "stream",
     "text": [
      "0.9504249291784702\n",
      "0.993494525551796\n"
     ]
    }
   ],
   "source": [
    "arr_scores = arr_scores[np.arange(n), label_cal.flatten()]\n",
    "confidence_corrected: float = (\n",
    "            np.ceil((arr_scores.shape[0] + 1) * 0.95) / arr_scores.shape[0]\n",
    "        )\n",
    "q_hat = float(np.quantile(arr_scores, confidence_corrected, method=\"higher\"))\n",
    "print(confidence_corrected)\n",
    "print(q_hat)"
   ]
  },
  {
   "cell_type": "code",
   "execution_count": 9,
   "metadata": {},
   "outputs": [],
   "source": [
    "# define confidence first\n",
    "n: int = softmax_val.shape[0]\n",
    "Id_sort = np.argsort(softmax_val, axis=1)[:, ::-1]\n",
    "cum_sum = np.take_along_axis(softmax_val, Id_sort, axis=1).cumsum(axis=1)\n",
    "scores_val = np.take_along_axis(cum_sum, Id_sort.argsort(axis=1), axis=1)\n",
    "\n",
    "region = softmax_val * (scores_val <= q_hat)"
   ]
  },
  {
   "cell_type": "code",
   "execution_count": 10,
   "metadata": {},
   "outputs": [
    {
     "data": {
      "text/plain": [
       "array([[0.9777824 , 0.92429179, 0.51694477, 1.00000001],\n",
       "       [0.98179042, 0.90859073, 0.45949244, 1.00000005],\n",
       "       [0.98502989, 0.5022282 , 0.87861994, 1.00000001],\n",
       "       ...,\n",
       "       [0.78779638, 0.97806789, 0.99843745, 0.99999997],\n",
       "       [0.77520674, 0.97643903, 0.99834799, 1.00000001],\n",
       "       [0.77519   , 0.97658336, 0.99836027, 0.99999992]], shape=(2789, 4))"
      ]
     },
     "execution_count": 10,
     "metadata": {},
     "output_type": "execute_result"
    }
   ],
   "source": [
    "scores_val"
   ]
  },
  {
   "cell_type": "code",
   "execution_count": 11,
   "metadata": {},
   "outputs": [
    {
     "data": {
      "text/plain": [
       "array([[0.05349061, 0.40734702, 0.51694477, 0.        ],\n",
       "       [0.07319969, 0.44909829, 0.45949244, 0.        ],\n",
       "       [0.10640995, 0.5022282 , 0.37639174, 0.        ],\n",
       "       ...,\n",
       "       [0.78779638, 0.19027151, 0.        , 0.        ],\n",
       "       [0.77520674, 0.20123228, 0.        , 0.        ],\n",
       "       [0.77519   , 0.20139337, 0.        , 0.        ]], shape=(2789, 4))"
      ]
     },
     "execution_count": 11,
     "metadata": {},
     "output_type": "execute_result"
    }
   ],
   "source": [
    "region"
   ]
  },
  {
   "cell_type": "code",
   "execution_count": 13,
   "metadata": {},
   "outputs": [],
   "source": [
    "cov, length = coverage_and_length(pred_region = region, label = label_val)"
   ]
  },
  {
   "cell_type": "code",
   "execution_count": 15,
   "metadata": {},
   "outputs": [
    {
     "data": {
      "text/plain": [
       "np.float64(2.42524202223019)"
      ]
     },
     "execution_count": 15,
     "metadata": {},
     "output_type": "execute_result"
    }
   ],
   "source": [
    "length"
   ]
  },
  {
   "cell_type": "code",
   "execution_count": 21,
   "metadata": {},
   "outputs": [
    {
     "data": {
      "text/plain": [
       "array([[0.05349061, 0.40734702, 0.51694477, 0.        ],\n",
       "       [0.07319969, 0.44909829, 0.45949244, 0.        ],\n",
       "       [0.10640995, 0.5022282 , 0.37639174, 0.        ],\n",
       "       ...,\n",
       "       [0.78779638, 0.19027151, 0.        , 0.        ],\n",
       "       [0.77520674, 0.20123228, 0.        , 0.        ],\n",
       "       [0.77519   , 0.20139337, 0.        , 0.        ]], shape=(2789, 4))"
      ]
     },
     "execution_count": 21,
     "metadata": {},
     "output_type": "execute_result"
    }
   ],
   "source": [
    "region"
   ]
  },
  {
   "cell_type": "code",
   "execution_count": 33,
   "metadata": {},
   "outputs": [
    {
     "data": {
      "text/plain": [
       "array([[False, False, False,  True],\n",
       "       [False, False, False,  True],\n",
       "       [False, False, False,  True],\n",
       "       ...,\n",
       "       [False, False,  True,  True],\n",
       "       [False, False,  True,  True],\n",
       "       [False, False,  True,  True]], shape=(2789, 4))"
      ]
     },
     "execution_count": 33,
     "metadata": {},
     "output_type": "execute_result"
    }
   ],
   "source": [
    "region == 0"
   ]
  },
  {
   "cell_type": "code",
   "execution_count": null,
   "metadata": {},
   "outputs": [
    {
     "data": {
      "text/plain": [
       "array([1, 1, 1, ..., 2, 2, 2], shape=(2789,))"
      ]
     },
     "execution_count": 34,
     "metadata": {},
     "output_type": "execute_result"
    }
   ],
   "source": [
    "np.sum(region != 0, axis =1)"
   ]
  },
  {
   "cell_type": "code",
   "execution_count": 38,
   "metadata": {},
   "outputs": [
    {
     "data": {
      "text/plain": [
       "array([[0.05349061, 0.40734702, 0.51694477, 0.        ],\n",
       "       [0.07319969, 0.44909829, 0.45949244, 0.        ],\n",
       "       [0.10640995, 0.5022282 , 0.37639174, 0.        ],\n",
       "       ...,\n",
       "       [0.78779638, 0.19027151, 0.        , 0.        ],\n",
       "       [0.77520674, 0.20123228, 0.        , 0.        ],\n",
       "       [0.77519   , 0.20139337, 0.        , 0.        ]], shape=(2789, 4))"
      ]
     },
     "execution_count": 38,
     "metadata": {},
     "output_type": "execute_result"
    }
   ],
   "source": [
    "region"
   ]
  },
  {
   "cell_type": "code",
   "execution_count": 39,
   "metadata": {},
   "outputs": [
    {
     "data": {
      "text/plain": [
       "2789"
      ]
     },
     "execution_count": 39,
     "metadata": {},
     "output_type": "execute_result"
    }
   ],
   "source": [
    "np.count_nonzero(np.sum(region != 0, axis =1))"
   ]
  },
  {
   "cell_type": "code",
   "execution_count": 31,
   "metadata": {},
   "outputs": [
    {
     "data": {
      "text/plain": [
       "0"
      ]
     },
     "execution_count": 31,
     "metadata": {},
     "output_type": "execute_result"
    }
   ],
   "source": [
    "region.shape[0] - np.count_nonzero(np.sum(region != 0, axis =1))"
   ]
  },
  {
   "cell_type": "code",
   "execution_count": 26,
   "metadata": {},
   "outputs": [
    {
     "data": {
      "text/plain": [
       "2789"
      ]
     },
     "execution_count": 26,
     "metadata": {},
     "output_type": "execute_result"
    }
   ],
   "source": [
    "np.count_nonzero(np.sum(region == 0, axis =1))"
   ]
  },
  {
   "cell_type": "code",
   "execution_count": 20,
   "metadata": {},
   "outputs": [
    {
     "data": {
      "text/plain": [
       "array([1, 1, 1, ..., 2, 2, 2], shape=(2789,))"
      ]
     },
     "execution_count": 20,
     "metadata": {},
     "output_type": "execute_result"
    }
   ],
   "source": [
    "4 - np.count_nonzero(region, axis=1)"
   ]
  },
  {
   "cell_type": "code",
   "execution_count": null,
   "metadata": {},
   "outputs": [
    {
     "ename": "AttributeError",
     "evalue": "module 'numpy' has no attribute 'count_zero'",
     "output_type": "error",
     "traceback": [
      "\u001b[0;31m---------------------------------------------------------------------------\u001b[0m",
      "\u001b[0;31mAttributeError\u001b[0m                            Traceback (most recent call last)",
      "Cell \u001b[0;32mIn[19], line 1\u001b[0m\n\u001b[0;32m----> 1\u001b[0m \u001b[43mnp\u001b[49m\u001b[38;5;241;43m.\u001b[39;49m\u001b[43mcount_zero\u001b[49m(region, axis\u001b[38;5;241m=\u001b[39m\u001b[38;5;241m1\u001b[39m)\n",
      "File \u001b[0;32m~/2python_pr/OrdCP/.venv/lib/python3.11/site-packages/numpy/__init__.py:414\u001b[0m, in \u001b[0;36m__getattr__\u001b[0;34m(attr)\u001b[0m\n\u001b[1;32m    411\u001b[0m     \u001b[38;5;28;01mimport\u001b[39;00m\u001b[38;5;250m \u001b[39m\u001b[38;5;21;01mnumpy\u001b[39;00m\u001b[38;5;21;01m.\u001b[39;00m\u001b[38;5;21;01mchar\u001b[39;00m\u001b[38;5;250m \u001b[39m\u001b[38;5;28;01mas\u001b[39;00m\u001b[38;5;250m \u001b[39m\u001b[38;5;21;01mchar\u001b[39;00m\n\u001b[1;32m    412\u001b[0m     \u001b[38;5;28;01mreturn\u001b[39;00m char\u001b[38;5;241m.\u001b[39mchararray\n\u001b[0;32m--> 414\u001b[0m \u001b[38;5;28;01mraise\u001b[39;00m \u001b[38;5;167;01mAttributeError\u001b[39;00m(\u001b[38;5;124m\"\u001b[39m\u001b[38;5;124mmodule \u001b[39m\u001b[38;5;132;01m{!r}\u001b[39;00m\u001b[38;5;124m has no attribute \u001b[39m\u001b[38;5;124m\"\u001b[39m\n\u001b[1;32m    415\u001b[0m                      \u001b[38;5;124m\"\u001b[39m\u001b[38;5;132;01m{!r}\u001b[39;00m\u001b[38;5;124m\"\u001b[39m\u001b[38;5;241m.\u001b[39mformat(\u001b[38;5;18m__name__\u001b[39m, attr))\n",
      "\u001b[0;31mAttributeError\u001b[0m: module 'numpy' has no attribute 'count_zero'"
     ]
    }
   ],
   "source": []
  },
  {
   "cell_type": "code",
   "execution_count": null,
   "metadata": {},
   "outputs": [],
   "source": []
  }
 ],
 "metadata": {
  "kernelspec": {
   "display_name": "ordcp",
   "language": "python",
   "name": "ordcp"
  },
  "language_info": {
   "codemirror_mode": {
    "name": "ipython",
    "version": 3
   },
   "file_extension": ".py",
   "mimetype": "text/x-python",
   "name": "python",
   "nbconvert_exporter": "python",
   "pygments_lexer": "ipython3",
   "version": "3.11.3"
  }
 },
 "nbformat": 4,
 "nbformat_minor": 2
}

{
 "cells": [
  {
   "cell_type": "code",
   "execution_count": 4,
   "metadata": {},
   "outputs": [],
   "source": [
    "import numpy as np\n",
    "import pandas as pd\n",
    "import matplotlib.pyplot as plt\n",
    "\n",
    "from conformalization import cp, coverage_and_length"
   ]
  },
  {
   "cell_type": "code",
   "execution_count": 5,
   "metadata": {},
   "outputs": [
    {
     "name": "stdout",
     "output_type": "stream",
     "text": [
      "Global cov: 88.53%, avg length: 1.77\n"
     ]
    }
   ],
   "source": [
    "with open(\"../results/uncertainty/MCP_LABEL_90.npy\", 'rb') as f:\n",
    "    region = np.load(f)\n",
    "    softmax_cal = np.load(f)\n",
    "    label_cal = np.load(f)\n",
    "    softmax_val = np.load(f)\n",
    "    label_val = np.load(f)\n",
    "\n",
    "cov, len = coverage_and_length(pred_region=region, label = label_val)\n",
    "print(f\"Global cov: {cov*100:.2f}%, avg length: {len:.2f}\")"
   ]
  },
  {
   "cell_type": "markdown",
   "metadata": {},
   "source": [
    "### Class-based results"
   ]
  },
  {
   "cell_type": "code",
   "execution_count": 6,
   "metadata": {},
   "outputs": [
    {
     "name": "stdout",
     "output_type": "stream",
     "text": [
      "Class: 0, Cov: 95%, length: 2.02\n",
      "Class: 1, Cov: 88%, length: 1.91\n",
      "Class: 2, Cov: 97%, length: 1.53\n",
      "Class: 3, Cov: 60%, length: 1.69\n"
     ]
    }
   ],
   "source": [
    "for cls in [0, 1, 2, 3]:\n",
    "    id_cls = (label_val == cls)\n",
    "    cls_region = region[id_cls.flatten(), ]\n",
    "    cov, len = coverage_and_length(pred_region = cls_region, label = label_val[id_cls.flatten()])\n",
    "\n",
    "    print(f\"Class: {cls}, Cov: {cov*100:.0f}%, length: {len:.2f}\")"
   ]
  },
  {
   "cell_type": "code",
   "execution_count": null,
   "metadata": {},
   "outputs": [],
   "source": []
  }
 ],
 "metadata": {
  "kernelspec": {
   "display_name": "ordcp",
   "language": "python",
   "name": "ordcp"
  },
  "language_info": {
   "codemirror_mode": {
    "name": "ipython",
    "version": 3
   },
   "file_extension": ".py",
   "mimetype": "text/x-python",
   "name": "python",
   "nbconvert_exporter": "python",
   "pygments_lexer": "ipython3",
   "version": "3.11.3"
  }
 },
 "nbformat": 4,
 "nbformat_minor": 2
}
